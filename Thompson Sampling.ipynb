{
 "cells": [
  {
   "cell_type": "code",
   "execution_count": 7,
   "id": "0d555c08",
   "metadata": {},
   "outputs": [],
   "source": [
    "import pandas as pd\n",
    "import numpy as np\n",
    "import random\n",
    "import matplotlib.pyplot as plt\n",
    "\n",
    "%matplotlib inline"
   ]
  },
  {
   "cell_type": "code",
   "execution_count": 3,
   "id": "0302d0ab",
   "metadata": {},
   "outputs": [],
   "source": [
    "df=pd.read_csv('Ads_CTR_Optimisation.csv')"
   ]
  },
  {
   "cell_type": "code",
   "execution_count": 4,
   "id": "cfb5bf37",
   "metadata": {},
   "outputs": [],
   "source": [
    "N=1000\n",
    "d=10\n",
    "ads_selected=[]\n",
    "no_rewards_1=[0]*d\n",
    "no_rewards_0=[0]*d\n",
    "total_rewards=0"
   ]
  },
  {
   "cell_type": "code",
   "execution_count": 5,
   "id": "82b41997",
   "metadata": {},
   "outputs": [],
   "source": [
    "for n in range(0,N):\n",
    "    ad=0\n",
    "    max_random=0\n",
    "    \n",
    "    for i in range(0,d):\n",
    "        rand_beta=random.betavariate(no_rewards_1[i]+1 , no_rewards_0[i]+1)\n",
    "        \n",
    "        if (rand_beta>max_random):\n",
    "            max_random=rand_beta\n",
    "            ad=i\n",
    "    ads_selected.append(ad)\n",
    "    reward=df.values[n,ad]\n",
    "    if (reward==1):\n",
    "        no_rewards_1[ad]=no_rewards_1[ad]+1\n",
    "    else:\n",
    "        no_rewards_0[ad]=no_rewards_0[ad]+1\n",
    "        \n",
    "    total_rewards=total_rewards+reward\n",
    "    "
   ]
  },
  {
   "cell_type": "code",
   "execution_count": 8,
   "id": "8bdb9bd0",
   "metadata": {},
   "outputs": [
    {
     "data": {
      "image/png": "[encoded data removed]",
      "text/plain": [
       "<Figure size 432x288 with 1 Axes>"
      ]
     },
     "metadata": {
      "needs_background": "light"
     },
     "output_type": "display_data"
    }
   ],
   "source": [
    "plt.hist(ads_selected)\n",
    "plt.show()"
   ]
  },
  {
   "cell_type": "code",
   "execution_count": null,
   "id": "ac6e64f1",
   "metadata": {},
   "outputs": [],
   "source": []
  }
 ],
 "metadata": {
  "kernelspec": {
   "display_name": "Python 3 (ipykernel)",
   "language": "python",
   "name": "python3"
  },
  "language_info": {
   "codemirror_mode": {
    "name": "ipython",
    "version": 3
   },
   "file_extension": ".py",
   "mimetype": "text/x-python",
   "name": "python",
   "nbconvert_exporter": "python",
   "pygments_lexer": "ipython3",
   "version": "3.9.12"
  }
 },
 "nbformat": 4,
 "nbformat_minor": 5
}
